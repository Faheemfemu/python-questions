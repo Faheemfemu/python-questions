{
  "nbformat": 4,
  "nbformat_minor": 0,
  "metadata": {
    "colab": {
      "provenance": [],
      "authorship_tag": "ABX9TyMDlL3xNdpgkqpzPu2ov0Gi",
      "include_colab_link": true
    },
    "kernelspec": {
      "name": "python3",
      "display_name": "Python 3"
    },
    "language_info": {
      "name": "python"
    }
  },
  "cells": [
    {
      "cell_type": "markdown",
      "metadata": {
        "id": "view-in-github",
        "colab_type": "text"
      },
      "source": [
        "<a href=\"https://colab.research.google.com/github/Faheemfemu/python-questions/blob/main/Python_Questions.ipynb\" target=\"_parent\"><img src=\"https://colab.research.google.com/assets/colab-badge.svg\" alt=\"Open In Colab\"/></a>"
      ]
    },
    {
      "cell_type": "markdown",
      "source": [
        "##**Important questions of python**"
      ],
      "metadata": {
        "id": "HifvK1WoxNJY"
      }
    },
    {
      "cell_type": "code",
      "execution_count": null,
      "metadata": {
        "colab": {
          "base_uri": "https://localhost:8080/"
        },
        "id": "hG_4dja4n2Pl",
        "outputId": "ebaea761-dc01-4b90-cf73-27b233f2aaf8"
      },
      "outputs": [
        {
          "output_type": "stream",
          "name": "stdout",
          "text": [
            "3\n",
            "4\n",
            "after swaping a: 4\n",
            "after swaping b: 3\n"
          ]
        }
      ],
      "source": [
        "a=int(input())\n",
        "b=int(input())\n",
        "a , b = b , a\n",
        "print('after swaping a:' , a)\n",
        "print('after swaping b:', b)"
      ]
    },
    {
      "cell_type": "code",
      "source": [],
      "metadata": {
        "id": "N8u22VCGdQV1"
      },
      "execution_count": null,
      "outputs": []
    },
    {
      "cell_type": "code",
      "source": [
        "x=int(input())\n",
        "n=int(input())\n",
        "print(x**n)"
      ],
      "metadata": {
        "id": "OAwHj1rEotz3",
        "colab": {
          "base_uri": "https://localhost:8080/"
        },
        "outputId": "72bbf84e-c9aa-4d06-a068-e3f11960ea93"
      },
      "execution_count": null,
      "outputs": [
        {
          "output_type": "stream",
          "name": "stdout",
          "text": [
            "10\n",
            "4\n",
            "10000\n"
          ]
        }
      ]
    },
    {
      "cell_type": "code",
      "source": [
        "n1=int(input())\n",
        "n2=int(input())\n",
        "n3=int(input())\n",
        "d=n2-n1 or n3-n2\n",
        "print(d)"
      ],
      "metadata": {
        "colab": {
          "base_uri": "https://localhost:8080/"
        },
        "id": "0ivcRph39nQO",
        "outputId": "f8c28ab4-17a2-462c-88c4-1df42571827f"
      },
      "execution_count": null,
      "outputs": [
        {
          "output_type": "stream",
          "name": "stdout",
          "text": [
            "1\n",
            "2\n",
            "3\n",
            "1\n"
          ]
        }
      ]
    },
    {
      "cell_type": "code",
      "source": [
        "n=int(input())\n",
        "while n > 0:"
      ],
      "metadata": {
        "id": "LgXWCwmbFi3B"
      },
      "execution_count": null,
      "outputs": []
    },
    {
      "cell_type": "code",
      "source": [
        "n=int(input())\n",
        "if n > 0:\n",
        "  print(\"positive\")\n",
        "elif n < 0:\n",
        "  print('negative')\n",
        "else:\n",
        "  print('zero')"
      ],
      "metadata": {
        "colab": {
          "base_uri": "https://localhost:8080/"
        },
        "id": "li7SOwB0JI5Y",
        "outputId": "23329346-673c-4a54-8214-2e10a230baca"
      },
      "execution_count": null,
      "outputs": [
        {
          "output_type": "stream",
          "name": "stdout",
          "text": [
            "0\n",
            "zero\n"
          ]
        }
      ]
    },
    {
      "cell_type": "code",
      "source": [
        "n=int(input())\n",
        "if n<0:\n",
        "  print('enter a positive number')\n",
        "else:\n",
        " sum=0\n",
        " while n>0:\n",
        "  sum=sum+n\n",
        "  n-=1 \n",
        " print(sum)"
      ],
      "metadata": {
        "colab": {
          "base_uri": "https://localhost:8080/"
        },
        "id": "Tu2MLL1gLrr0",
        "outputId": "3b2457d3-3e0b-467f-c963-c68bce2da5d3"
      },
      "execution_count": null,
      "outputs": [
        {
          "output_type": "stream",
          "name": "stdout",
          "text": [
            "10\n",
            "55\n"
          ]
        }
      ]
    },
    {
      "cell_type": "code",
      "source": [
        "n=int(input())\n",
        "count=1\n",
        "for i in range (n+1):\n",
        "   count=count+i\n",
        "   i=i+1\n",
        "   print(count)"
      ],
      "metadata": {
        "colab": {
          "base_uri": "https://localhost:8080/"
        },
        "id": "5N5_wcu5MPM5",
        "outputId": "c1f935b6-7015-4a4f-d6ab-2f8a33f3fe51"
      },
      "execution_count": null,
      "outputs": [
        {
          "output_type": "stream",
          "name": "stdout",
          "text": [
            "5\n",
            "1\n",
            "2\n",
            "4\n",
            "7\n",
            "11\n",
            "16\n"
          ]
        }
      ]
    },
    {
      "cell_type": "code",
      "source": [
        "n = int(input())\n",
        "x = 0\n",
        "y = 1\n",
        "z = 0\n",
        "while z<=n:\n",
        "    print(z)\n",
        "    x=y\n",
        "    y=z\n",
        "    z=x+y\n",
        "    "
      ],
      "metadata": {
        "id": "610Wx-eNT_rR",
        "colab": {
          "base_uri": "https://localhost:8080/"
        },
        "outputId": "4a84c5a5-5002-4331-8628-1ea27c1c501c"
      },
      "execution_count": null,
      "outputs": [
        {
          "output_type": "stream",
          "name": "stdout",
          "text": [
            "5\n",
            "0\n",
            "1\n",
            "1\n",
            "2\n",
            "3\n",
            "5\n"
          ]
        }
      ]
    },
    {
      "cell_type": "code",
      "source": [
        "li=[12,11,14,64,27,27]\n",
        "set1=set(li)\n",
        "li2=list(set1)\n",
        "l3=sorted(li2)\n",
        "l3[-2]"
      ],
      "metadata": {
        "colab": {
          "base_uri": "https://localhost:8080/"
        },
        "id": "CBR_FihNgAel",
        "outputId": "1907f727-1c6b-4491-bca0-4294c9f0544d"
      },
      "execution_count": null,
      "outputs": [
        {
          "output_type": "execute_result",
          "data": {
            "text/plain": [
              "64"
            ]
          },
          "metadata": {},
          "execution_count": 8
        }
      ]
    },
    {
      "cell_type": "code",
      "source": [
        "lit=[12,13,[],2,[],5]\n",
        "[x for x in lit if x!=[]]\n"
      ],
      "metadata": {
        "colab": {
          "base_uri": "https://localhost:8080/"
        },
        "id": "mzyZfDEFhTVr",
        "outputId": "f07ed828-fa4c-4fce-94b5-f952a25f3deb"
      },
      "execution_count": null,
      "outputs": [
        {
          "output_type": "execute_result",
          "data": {
            "text/plain": [
              "[[], []]"
            ]
          },
          "metadata": {},
          "execution_count": 15
        }
      ]
    },
    {
      "cell_type": "code",
      "source": [
        "df.rename(columns={'':'',})"
      ],
      "metadata": {
        "id": "0u9jJjBViMf5"
      },
      "execution_count": null,
      "outputs": []
    },
    {
      "cell_type": "code",
      "source": [
        "def plusMinus(arr):\n",
        "    # Write your code here\n",
        "    positivecount=0\n",
        "    negativecount=0\n",
        "    zerocount=0\n",
        "    for i in range (0,len(arr)):\n",
        "        if arr[i] > 0:\n",
        "            positivecount +=1\n",
        "        elif arr[i] < 0:\n",
        "          negativecount +=1\n",
        "        else:\n",
        "          zerocount+=1\n",
        "    print(\"{0:.6f}\".format((positivecount / len(arr))) )\n",
        "    print(\"%1.6f \"%(negativecount / len(arr)))\n",
        "    print(\"%1.6f \"%(zerocount / len(arr)))\n",
        "\n",
        "if __name__ == '__main__':\n",
        "\n",
        "    arr = [-4, 3, -9, 0, 4, 1]\n",
        "\n",
        "    plusMinus(arr)\n"
      ],
      "metadata": {
        "colab": {
          "base_uri": "https://localhost:8080/"
        },
        "id": "Lu3AShjd59Np",
        "outputId": "67c975cf-dffe-4d42-e275-8d62ef207084"
      },
      "execution_count": null,
      "outputs": [
        {
          "output_type": "stream",
          "name": "stdout",
          "text": [
            "0.500000\n",
            "0.333333 \n",
            "0.166667 \n"
          ]
        }
      ]
    },
    {
      "cell_type": "markdown",
      "source": [
        "Complete the miniMaxSum function in the editor below.\n",
        "\n",
        "miniMaxSum has the following parameter(s):\n",
        "\n",
        "arr: an array of 5 integers"
      ],
      "metadata": {
        "id": "qrGPetwZI0BS"
      }
    },
    {
      "cell_type": "code",
      "source": [
        "import sys\n",
        "\n",
        "#\n",
        "# Complete the 'miniMaxSum' function below.\n",
        "#\n",
        "# The function accepts INTEGER_ARRAY arr as parameter.\n",
        "#\n",
        "\n",
        "def miniMaxSum(arr):\n",
        "    # Write your code here\n",
        "    arr1=sorted(arr)\n",
        "    minsum=0\n",
        "    maxsum=0\n",
        "    for i in range(0,(len(arr1)-1)):\n",
        "        minsum += arr[i]\n",
        "    for i in range(1,len(arr1)):\n",
        "        maxsum += arr1[i]\n",
        "    print(minsum,end=' ')\n",
        "    print(maxsum,end=' ')\n",
        "\n",
        "if __name__ == '__main__':\n",
        "\n",
        "    arr = [1, 2, 3 ,4 ,5]\n",
        "    #test case 2\n",
        "    arr=[7, 69, 2, 221, 8974]\n",
        "\n",
        "    miniMaxSum(arr)\n"
      ],
      "metadata": {
        "colab": {
          "base_uri": "https://localhost:8080/"
        },
        "id": "S-4w01EBHzRD",
        "outputId": "e3b113e1-2e56-4267-838a-7437a7d9cf6d"
      },
      "execution_count": null,
      "outputs": [
        {
          "output_type": "stream",
          "name": "stdout",
          "text": [
            "299 9271 "
          ]
        }
      ]
    },
    {
      "cell_type": "code",
      "source": [
        "def fizzBuzz(n):\n",
        "  for i in range (1,n+1):\n",
        "    if i==3*5:\n",
        "      print('fizzBuzz')\n",
        "    elif i%3==0:\n",
        "      print('fizz')\n",
        "    elif i%5==0:\n",
        "      print('Buzz')\n",
        "    else:\n",
        "      print(i)\n",
        "fizzBuzz(15)"
      ],
      "metadata": {
        "colab": {
          "base_uri": "https://localhost:8080/"
        },
        "id": "7rBn16dOeWj8",
        "outputId": "4e8c03a8-cdce-412a-c715-5c35ccd6876c"
      },
      "execution_count": null,
      "outputs": [
        {
          "output_type": "stream",
          "name": "stdout",
          "text": [
            "1\n",
            "2\n",
            "fizz\n",
            "4\n",
            "Buzz\n",
            "fizz\n",
            "7\n",
            "8\n",
            "fizz\n",
            "Buzz\n",
            "11\n",
            "fizz\n",
            "13\n",
            "14\n",
            "fizzBuzz\n"
          ]
        }
      ]
    },
    {
      "cell_type": "markdown",
      "source": [
        "\n",
        " "
      ],
      "metadata": {
        "id": "aVRaNA5tmifV"
      }
    },
    {
      "cell_type": "code",
      "source": [
        "def array(arr):\n",
        "  li=sorted(arr)\n",
        "  print(li[(len(li)+1)//2-1])\n",
        "array([0 ,1 ,2, 4, 6, 5, 3])"
      ],
      "metadata": {
        "colab": {
          "base_uri": "https://localhost:8080/"
        },
        "id": "5mUqh-1SmqHe",
        "outputId": "bf1cf81c-a3ec-4ff7-ef88-88c9a345db64"
      },
      "execution_count": null,
      "outputs": [
        {
          "output_type": "stream",
          "name": "stdout",
          "text": [
            "3\n"
          ]
        }
      ]
    },
    {
      "cell_type": "markdown",
      "source": [
        "You are given a string and your task is to swap cases. In other words, convert all lowercase letters to uppercase letters and vice versa.\n",
        "\n",
        "For Example:\n",
        "\n",
        "Www.HackerRank.com → wWW.hACKERrANK.COM\n",
        "Pythonist 2 → pYTHONIST 2  \n"
      ],
      "metadata": {
        "id": "wxhrS9QJqhnz"
      }
    },
    {
      "cell_type": "code",
      "source": [
        "def swap_case(s):\n",
        "  result=' '\n",
        "  for i in range (0,len(s)):\n",
        "    if (s[i].islower()==True):\n",
        "      result += (s[i].upper())\n",
        "    elif (s[i].isupper()==True):\n",
        "     result += (s[i].lower())\n",
        "    else:\n",
        "     result +=s[i]\n",
        "  return result\n",
        "\n",
        "swap_case('HackerRank.com presents \"Pythonist 2\".')\n"
      ],
      "metadata": {
        "colab": {
          "base_uri": "https://localhost:8080/",
          "height": 36
        },
        "id": "TNc7W0Zkdl3X",
        "outputId": "7168a5d3-9a58-41c5-e3f0-b673fd740ef6"
      },
      "execution_count": null,
      "outputs": [
        {
          "output_type": "execute_result",
          "data": {
            "text/plain": [
              "' hACKERrANK.COM PRESENTS \"pYTHONIST 2\".'"
            ],
            "application/vnd.google.colaboratory.intrinsic+json": {
              "type": "string"
            }
          },
          "metadata": {},
          "execution_count": 21
        }
      ]
    },
    {
      "cell_type": "code",
      "source": [
        "def swap_case(s):\n",
        "\n",
        "    # sWAP cASE in Python - HackerRank Solution START\n",
        "    Output = '';\n",
        "    for char in s:\n",
        "        if(char.isupper()==True):\n",
        "            Output += (char.lower());\n",
        "        elif(char.islower()==True):\n",
        "            Output += (char.upper());\n",
        "        else:\n",
        "            Output += char;\n",
        "    return Output;\n",
        "    # sWAP cASE in Python - HackerRank Solution END\n",
        "swap_case('Asdf,')"
      ],
      "metadata": {
        "colab": {
          "base_uri": "https://localhost:8080/",
          "height": 36
        },
        "id": "cdMJYrYNmYZa",
        "outputId": "a09585ec-59ea-4aba-ba52-1ef64bc558eb"
      },
      "execution_count": null,
      "outputs": [
        {
          "output_type": "execute_result",
          "data": {
            "text/plain": [
              "'aSDF,'"
            ],
            "application/vnd.google.colaboratory.intrinsic+json": {
              "type": "string"
            }
          },
          "metadata": {},
          "execution_count": 16
        }
      ]
    },
    {
      "cell_type": "markdown",
      "source": [
        "Task\n",
        "You are given a string. Split the string on a \" \" (space) delimiter and join using a - hyphen."
      ],
      "metadata": {
        "id": "xUnWVGW3vYNt"
      }
    },
    {
      "cell_type": "code",
      "source": [
        "def split_and_join(line):\n",
        "    # write your code here\n",
        "    li=line.split(' ')\n",
        "    lin='-'.join(li)\n",
        "    return lin\n",
        "l=split_and_join('this is my name')\n",
        "\n",
        "    "
      ],
      "metadata": {
        "colab": {
          "base_uri": "https://localhost:8080/"
        },
        "id": "Pi0yW8uXuNkT",
        "outputId": "257e690e-2060-4983-a9ea-0b47ab6c7fc4"
      },
      "execution_count": null,
      "outputs": [
        {
          "output_type": "stream",
          "name": "stdout",
          "text": [
            "this-is-my-name\n"
          ]
        }
      ]
    },
    {
      "cell_type": "markdown",
      "source": [
        "You are given the firstname and lastname of a person on two different lines. Your task is to read them and print the following:\n",
        "\n",
        "Hello firstname lastname! You just delved into python."
      ],
      "metadata": {
        "id": "htsTNb-_44aR"
      }
    },
    {
      "cell_type": "code",
      "source": [
        "def print_full_name(first, last):\n",
        "    # Write your code here\n",
        " print(f'Hello {first} {last}! You just delved into python.')\n",
        "if __name__ == '__main__':\n",
        "    first_name = input()\n",
        "    last_name = input()\n",
        "    print_full_name(first_name, last_name)"
      ],
      "metadata": {
        "colab": {
          "base_uri": "https://localhost:8080/"
        },
        "id": "mfHtKKYX49d6",
        "outputId": "3b4a0c5e-ab05-41fe-da19-65dd5b52d5dc"
      },
      "execution_count": null,
      "outputs": [
        {
          "output_type": "stream",
          "name": "stdout",
          "text": [
            "mohd\n",
            "faheem\n",
            "Hello mohd faheem! You just delved into python.\n"
          ]
        }
      ]
    },
    {
      "cell_type": "code",
      "source": [
        "def lonelyinteger(a):\n",
        "    # Write your code here\n",
        "    for i in range (0,len(a)):\n",
        "      if a.count(i)==1:\n",
        "        print(i) \n",
        "lonelyinteger([1,2,3,4,3,2,1])"
      ],
      "metadata": {
        "id": "FkHGDBTE5JXJ",
        "colab": {
          "base_uri": "https://localhost:8080/"
        },
        "outputId": "b2976184-0e8d-4d5b-aed2-9e0f1212596a"
      },
      "execution_count": null,
      "outputs": [
        {
          "output_type": "stream",
          "name": "stdout",
          "text": [
            "4\n"
          ]
        }
      ]
    },
    {
      "cell_type": "code",
      "source": [
        "def lonelyinteger(a):\n",
        "    # Write your code here\n",
        "    unique = [val for val in a if a.count(val) == 1 ]\n",
        "    for i in unique:\n",
        "        return i \n",
        "lonelyinteger([1,2,3,4,3,2,1])"
      ],
      "metadata": {
        "colab": {
          "base_uri": "https://localhost:8080/"
        },
        "id": "kt7QnaJNrUK-",
        "outputId": "25fc9142-af96-470f-b9aa-6a6a584a3123"
      },
      "execution_count": null,
      "outputs": [
        {
          "output_type": "execute_result",
          "data": {
            "text/plain": [
              "4"
            ]
          },
          "metadata": {},
          "execution_count": 9
        }
      ]
    },
    {
      "cell_type": "code",
      "source": [
        "input='sky is blue'\n",
        "output='blue is sky'\n"
      ],
      "metadata": {
        "id": "3PXRjWQPragp"
      },
      "execution_count": null,
      "outputs": []
    },
    {
      "cell_type": "code",
      "source": [
        "li=input.split(' ')\n",
        "l2=li[::-1]\n",
        "output=' '.join(l2)\n",
        "output"
      ],
      "metadata": {
        "colab": {
          "base_uri": "https://localhost:8080/",
          "height": 36
        },
        "id": "uKhUrCrJeLU7",
        "outputId": "0fbb44eb-6424-4ee8-ca52-7af7b8efc92b"
      },
      "execution_count": null,
      "outputs": [
        {
          "output_type": "execute_result",
          "data": {
            "text/plain": [
              "'blue is sky'"
            ],
            "application/vnd.google.colaboratory.intrinsic+json": {
              "type": "string"
            }
          },
          "metadata": {},
          "execution_count": 17
        }
      ]
    },
    {
      "cell_type": "code",
      "source": [
        "lis=[1,2,2,3,3,4,5,5,6,6]\n",
        "for i in lis:\n",
        "  if lis.count(i)==1:\n",
        "     print(i)"
      ],
      "metadata": {
        "colab": {
          "base_uri": "https://localhost:8080/"
        },
        "id": "F8KcuYNllBPM",
        "outputId": "bd46dced-f5bd-467b-b1be-57104d33c4d6"
      },
      "execution_count": null,
      "outputs": [
        {
          "output_type": "stream",
          "name": "stdout",
          "text": [
            "1\n",
            "4\n"
          ]
        }
      ]
    },
    {
      "cell_type": "code",
      "source": [
        "unique = [val for val in lis if lis.count(val) == 1 ]\n",
        "unique\n",
        "#for i in unique:\n",
        "   #print(i )"
      ],
      "metadata": {
        "colab": {
          "base_uri": "https://localhost:8080/"
        },
        "id": "GW6iVqSNnnkf",
        "outputId": "297a35fc-8d1d-425e-8bbb-12c1d825c0ea"
      },
      "execution_count": null,
      "outputs": [
        {
          "output_type": "execute_result",
          "data": {
            "text/plain": [
              "[1, 4]"
            ]
          },
          "metadata": {},
          "execution_count": 26
        }
      ]
    },
    {
      "cell_type": "code",
      "source": [
        "mystr=\"a,a,a,b,b,c,c,c\"\n",
        "#output=a:3,b:2,c:3\n",
        "l=mystr.split(',')\n",
        "l2=[]\n",
        "l3=[]\n",
        "for i in l:\n",
        "  if i not in l2:\n",
        "    l3.append(f'{i}:{l.count(i)}')\n",
        "    l2.append(i)\n",
        "print(','.join(l3))"
      ],
      "metadata": {
        "colab": {
          "base_uri": "https://localhost:8080/"
        },
        "id": "IwzbB3p4pIYR",
        "outputId": "13324cbb-dbb7-4086-e342-0a90e0955fb4"
      },
      "execution_count": null,
      "outputs": [
        {
          "output_type": "stream",
          "name": "stdout",
          "text": [
            "a:3,b:2,c:3\n"
          ]
        }
      ]
    },
    {
      "cell_type": "code",
      "source": [
        "p=['1234python668' , '678java899' , '4566hadoop9123']\n",
        "#output ['1234668', '678899', '45669123']\n",
        "#output ['python', 'java', 'hadoop']\n",
        "l1=[]\n",
        "l2=[]\n",
        "for word in p:\n",
        "  int_val=''\n",
        "  str_val=''\n",
        "  for chr in word:\n",
        "    if chr.isdigit():\n",
        "      int_val =int_val+chr\n",
        "    else:\n",
        "      str_val +=chr\n",
        "  l1.append(int_val)\n",
        "  l2.append(str_val)\n",
        "print(l1)\n",
        "print(l2)\n",
        "\n",
        "\n"
      ],
      "metadata": {
        "colab": {
          "base_uri": "https://localhost:8080/"
        },
        "id": "2svN2OkdpwRm",
        "outputId": "543d75b0-8cdc-43ec-beb0-51d4496fa26d"
      },
      "execution_count": null,
      "outputs": [
        {
          "output_type": "stream",
          "name": "stdout",
          "text": [
            "['1234668', '678899', '45669123']\n",
            "['python', 'java', 'hadoop']\n"
          ]
        }
      ]
    },
    {
      "cell_type": "code",
      "source": [
        "input=\"Ac*wv12n/:#e123we2.45oin (fwoi6n#a98nfwb+owi\"\n",
        "#output=[2.45,6,12,98,123]\n",
        "li=[]\n",
        "for i in input:\n",
        "  int_val=''\n",
        "  chr_val=''\n",
        "  if i.isdigit():\n",
        "    int_val +=i\n",
        "  else:\n",
        "    chr_val +=i\n",
        "li.append(int_val)\n",
        "print(li)\n",
        "\n"
      ],
      "metadata": {
        "colab": {
          "base_uri": "https://localhost:8080/"
        },
        "id": "nUmVyMqYPPL1",
        "outputId": "c72423f7-701c-410d-bebf-177e497d34d4"
      },
      "execution_count": null,
      "outputs": [
        {
          "output_type": "stream",
          "name": "stdout",
          "text": [
            "['']\n"
          ]
        }
      ]
    },
    {
      "cell_type": "markdown",
      "source": [
        "##Perfect Number\n",
        "Easy\n",
        "Write a python program to check a given number is perfect or not.\n",
        "\n",
        "Note: A perfect number is a positive integer that is equal to the sum of its positive divisors, excluding the number itself.\n",
        "\n",
        "Lets understand it with example\n",
        "\n",
        "6 is a positive number and its divisor is 1,2,3 and 6 itself.\n",
        "\n",
        "But we should not include 6 as by the definition of perfect number.\n",
        "\n",
        "Lets add its divisor excluding itself\n",
        "\n",
        "1+2+3 = 6 which is equal to number itself.\n",
        "\n",
        "It means 6 is a Perfect Number."
      ],
      "metadata": {
        "id": "CS3jnrJ7ccX5"
      }
    },
    {
      "cell_type": "code",
      "source": [
        "n = int(input())\n",
        "sum=0\n",
        "for i in range(1,n):\n",
        "    if n%i==0:\n",
        "        sum=sum+i\n",
        "if sum==n:\n",
        "   print('It is Perfect Number')\n",
        "else:\n",
        "  print('It is not perfect number')"
      ],
      "metadata": {
        "colab": {
          "base_uri": "https://localhost:8080/"
        },
        "id": "5Hswdk9jX0gC",
        "outputId": "267ca92f-6235-486a-aa50-1c4dff37fbc2"
      },
      "execution_count": null,
      "outputs": [
        {
          "output_type": "stream",
          "name": "stdout",
          "text": [
            "1256488\n",
            "It is not perfect number\n"
          ]
        }
      ]
    },
    {
      "cell_type": "markdown",
      "source": [
        "##Remove char. from string\n",
        " Easy\n",
        "Write a python program to remove a given character from string."
      ],
      "metadata": {
        "id": "qT8NaQ9OjJwT"
      }
    },
    {
      "cell_type": "code",
      "source": [
        "str = input()\n",
        "ch = input()\n",
        "for i in str:\n",
        " t=str.replace(ch,\" \")\n",
        "print(t)"
      ],
      "metadata": {
        "colab": {
          "base_uri": "https://localhost:8080/"
        },
        "id": "wwidlus7cjh0",
        "outputId": "de54fa48-553f-4d7b-c499-109fa2caf19a"
      },
      "execution_count": null,
      "outputs": [
        {
          "output_type": "stream",
          "name": "stdout",
          "text": [
            "I know python coding\n",
            "o\n",
            "I kn w pyth n c ding\n"
          ]
        }
      ]
    },
    {
      "cell_type": "markdown",
      "source": [
        "##Find last position of substring\n",
        "Easy\n",
        "Write a python program to find the last position of a given substring."
      ],
      "metadata": {
        "id": "phLwVXrgoWdK"
      }
    },
    {
      "cell_type": "code",
      "source": [
        "str1 =input()\n",
        "substr=input()\n",
        "for i in str1:\n",
        "  t=str1.rfind(substr)\n",
        "print(t)"
      ],
      "metadata": {
        "colab": {
          "base_uri": "https://localhost:8080/"
        },
        "id": "Y9bexLfkjRpj",
        "outputId": "3ffe4207-7c72-48cb-f9e2-0538fab05bfd"
      },
      "execution_count": null,
      "outputs": [
        {
          "output_type": "stream",
          "name": "stdout",
          "text": [
            "practice and practice untill you fail\n",
            "untill\n",
            "22\n"
          ]
        }
      ]
    },
    {
      "cell_type": "code",
      "source": [
        "Input=\"(()) (()) () ((()()()))\"\n",
        "l=Input.split(\" \")\n",
        "l1=[]\n",
        "l2=[]\n",
        "for i in l:\n",
        "  #l1.append(i)\n",
        "  for j in i:\n",
        "    #l.count(j)\n",
        "    #l1.append(i)\n",
        "    l2.append(i.count(j))\n",
        "print(l2)\n",
        "\n"
      ],
      "metadata": {
        "colab": {
          "base_uri": "https://localhost:8080/"
        },
        "id": "7HvRnZyOzUx7",
        "outputId": "8c41f4a5-538a-4cae-bf3e-a6e686c5a46b"
      },
      "execution_count": null,
      "outputs": [
        {
          "output_type": "stream",
          "name": "stdout",
          "text": [
            "[2, 2, 2, 2, 2, 2, 2, 2, 1, 1, 5, 5, 5, 5, 5, 5, 5, 5, 5, 5]\n"
          ]
        }
      ]
    },
    {
      "cell_type": "markdown",
      "source": [
        "##Find maximum depth of nested parenthesis in a string"
      ],
      "metadata": {
        "id": "a5j4nfKN91ws"
      }
    },
    {
      "cell_type": "code",
      "source": [
        "def maxDepth(s):\n",
        " \n",
        "    count = 0\n",
        "    st = []\n",
        " \n",
        "    for i in range(len(s)):\n",
        "        if (s[i] == '('):\n",
        "            st.append(i) # pushing the bracket in the stack\n",
        "        elif (s[i] == ')'):\n",
        "            if (count < len(st)):\n",
        "                count = len(st)\n",
        "            # keeping track of the parenthesis and storing\n",
        "            # it before removing it when it gets balanced\n",
        "            st.pop()\n",
        "         \n",
        "    return count\n",
        " \n",
        "# Driver program\n",
        " \n",
        "s = \"( ((X)) (((Y))) )\"\n",
        "print(maxDepth(s))\n",
        " \n",
        " "
      ],
      "metadata": {
        "colab": {
          "base_uri": "https://localhost:8080/"
        },
        "id": "XUvadznIzWvg",
        "outputId": "6ce30e58-05ae-452a-babc-39d57eaff3f9"
      },
      "execution_count": null,
      "outputs": [
        {
          "output_type": "stream",
          "name": "stdout",
          "text": [
            "4\n"
          ]
        }
      ]
    },
    {
      "cell_type": "code",
      "source": [
        "Input='( ()) ((()()())) (()) ()'\n",
        "Input.split(\" \")\n",
        "\n",
        "#Output:['(())', '((()()()))', '(())', '()']"
      ],
      "metadata": {
        "colab": {
          "base_uri": "https://localhost:8080/"
        },
        "id": "RiHzCNwX-xlB",
        "outputId": "157886c9-0595-4e97-907a-41c9aec8252c"
      },
      "execution_count": null,
      "outputs": [
        {
          "output_type": "execute_result",
          "data": {
            "text/plain": [
              "['(', '())', '((()()()))', '(())', '()']"
            ]
          },
          "metadata": {},
          "execution_count": 47
        }
      ]
    }
  ]
}